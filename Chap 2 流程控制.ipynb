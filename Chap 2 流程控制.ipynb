{
 "cells": [
  {
   "cell_type": "markdown",
   "metadata": {},
   "source": [
    "# Chap2 流程控制\n",
    "## if else, elif"
   ]
  },
  {
   "cell_type": "code",
   "execution_count": 8,
   "metadata": {},
   "outputs": [
    {
     "name": "stdout",
     "output_type": "stream",
     "text": [
      "b是比較大的數字\n"
     ]
    }
   ],
   "source": [
    "'''在Python裡面，主要強調易讀\n",
    "   因此原先if else語法是使用這樣的方式\n",
    "   if(a<b){}改成\n",
    "   if a<b: 的方式'''\n",
    "a = 3\n",
    "b = 4\n",
    "if a<=b:  \n",
    "    print(\"b是比較大的數字\");\n",
    "else:\n",
    "    print(\"a是比較大的數字\");"
   ]
  },
  {
   "cell_type": "markdown",
   "metadata": {},
   "source": [
    "### 練習：成績評鑑"
   ]
  },
  {
   "cell_type": "code",
   "execution_count": 9,
   "metadata": {},
   "outputs": [
    {
     "name": "stdout",
     "output_type": "stream",
     "text": [
      "成績評鑑：\n",
      "不及格\n"
     ]
    }
   ],
   "source": [
    "grade = 59 #宣告\n",
    "print(\"成績評鑑：\");\n",
    "\n",
    "#判斷\n",
    "'''在Python的判斷不再是「else if」而是「elif」'''\n",
    "if grade >= 90 :\n",
    "    print(\"優等\");\n",
    "elif grade >= 80 :\n",
    "    print(\"甲等\");\n",
    "elif grade >= 70 :\n",
    "    print(\"乙等\");\n",
    "elif grade >= 60 :\n",
    "    print(\"丙等\");\n",
    "else:\n",
    "    print(\"不及格\");"
   ]
  },
  {
   "cell_type": "markdown",
   "metadata": {},
   "source": [
    "## for 迴圈"
   ]
  },
  {
   "cell_type": "code",
   "execution_count": 11,
   "metadata": {},
   "outputs": [
    {
     "name": "stdout",
     "output_type": "stream",
     "text": [
      "1+2+3...+10 = 55\n"
     ]
    }
   ],
   "source": [
    "#1+2+3...+10總和\n",
    "sum = 0 #宣告計算的總和\n",
    "\n",
    "'''在其他語言基本上for迴圈架構為\n",
    "   for (int a = 1; a<11 ; a++)\n",
    "   的方式做運算'''\n",
    "\n",
    "#原始寫法\n",
    "for count in range(1, 11, 1): #從1開始，間隔1，不包含11\n",
    "    sum += count\n",
    "print(\"1+2+3...+10 =\", sum)\n",
    "'''需要在迴圈內計算的需空「2 OR 4」格mylist =\"\"'''"
   ]
  },
  {
   "cell_type": "code",
   "execution_count": 12,
   "metadata": {},
   "outputs": [
    {
     "name": "stdout",
     "output_type": "stream",
     "text": [
      "1+2+3...+10 = 55\n"
     ]
    }
   ],
   "source": [
    "#range另種寫法\n",
    "#1+2+3...+10總和\n",
    "sum = 0\n",
    "for count in range(11): #從1開始至10，不包含11\n",
    "    sum += count \n",
    "print(\"1+2+3...+10 =\", sum);"
   ]
  },
  {
   "cell_type": "code",
   "execution_count": 14,
   "metadata": {},
   "outputs": [
    {
     "name": "stdout",
     "output_type": "stream",
     "text": [
      "f\n",
      "o\n",
      "r\n",
      " \n",
      "s\n",
      "t\n",
      "a\n",
      "t\n",
      "e\n",
      "m\n",
      "e\n",
      "n\n",
      "t\n",
      "end mylist\n"
     ]
    }
   ],
   "source": [
    "\n",
    "mylist = \"for statement\"\n",
    "#「mylist」將每個字如「for」將單字拆解成字元跳行顯示\n",
    "for c in mylist:\n",
    "    print(c)\n",
    "print(\"end mylist\")"
   ]
  },
  {
   "cell_type": "code",
   "execution_count": 16,
   "metadata": {},
   "outputs": [
    {
     "name": "stdout",
     "output_type": "stream",
     "text": [
      "Java\n",
      "C#\n",
      "Python\n",
      "SQL\n"
     ]
    }
   ],
   "source": [
    "#跳行顯示\n",
    "for pl in [\"Java\", \"C#\", \"Python\", \"SQL\"]:\n",
    "    print(pl)"
   ]
  },
  {
   "cell_type": "markdown",
   "metadata": {},
   "source": [
    "### 雞兔同籠，若共有35個頭，94隻腳，請問有幾隻雞?幾隻兔?"
   ]
  },
  {
   "cell_type": "code",
   "execution_count": 17,
   "metadata": {},
   "outputs": [
    {
     "name": "stdout",
     "output_type": "stream",
     "text": [
      "雞有： 23 隻，兔有： 12 隻\n"
     ]
    }
   ],
   "source": [
    "for chicken in range(0,36):\n",
    "    rabbit = 35-chicken ##雞+兔總共35隻先減去雞的數量\n",
    "    if (2*chicken + 4*rabbit) == 94: #判斷2隻腳的雞跟4隻腳的兔，數量加總幾來是否有94隻腳\n",
    "        print(\"雞有：\",chicken,\"隻，兔有：\",rabbit,\"隻\")\n",
    "        break\n",
    "else:\n",
    "    print(\"無解\")"
   ]
  },
  {
   "cell_type": "markdown",
   "metadata": {},
   "source": [
    "## while 迴圈"
   ]
  },
  {
   "cell_type": "code",
   "execution_count": 18,
   "metadata": {},
   "outputs": [
    {
     "name": "stdout",
     "output_type": "stream",
     "text": [
      "1+2+3...+10 55\n"
     ]
    }
   ],
   "source": [
    "sum = 0\n",
    "count = 1\n",
    "\n",
    "while count <=10:\n",
    "    sum += count\n",
    "    count += 1\n",
    "print(\"1+2+3...+10 =\", sum)"
   ]
  },
  {
   "cell_type": "markdown",
   "metadata": {},
   "source": [
    "### 本金10,000元，定存年利率0.6%，請問多久銀行存款會翻倍"
   ]
  },
  {
   "cell_type": "code",
   "execution_count": 19,
   "metadata": {},
   "outputs": [
    {
     "name": "stdout",
     "output_type": "stream",
     "text": [
      "116 年以後，存款加倍，為： 20015 元\n"
     ]
    }
   ],
   "source": [
    "x = 10000\n",
    "years = 0\n",
    "while x <= 20000:\n",
    "    x = x*1.006\n",
    "    years += 1\n",
    "print(str(years), \"年以後，存款加倍，為：\", int(x),\"元\")"
   ]
  },
  {
   "cell_type": "markdown",
   "metadata": {},
   "source": [
    "### 帳號密碼判斷"
   ]
  },
  {
   "cell_type": "code",
   "execution_count": 22,
   "metadata": {},
   "outputs": [
    {
     "name": "stdout",
     "output_type": "stream",
     "text": [
      "請輸入帳號：Grace\n",
      "請輸入密碼：Grace1234\n",
      "歡迎登入\n"
     ]
    }
   ],
   "source": [
    "id = \"Grace\"\n",
    "pwd = \"Grace1234\"\n",
    "\n",
    "#此迴圈使使用者在輸入全正確時才會結束\n",
    "while True:\n",
    "    x = input(\"請輸入帳號：\")\n",
    "    y = input(\"請輸入密碼：\")\n",
    "    if (x == id and y == pwd):\n",
    "        print(\"歡迎登入\")\n",
    "        break\n",
    "    else:\n",
    "        print(\"帳號或密碼輸入錯誤\")"
   ]
  },
  {
   "cell_type": "markdown",
   "metadata": {},
   "source": [
    "## 亂數"
   ]
  },
  {
   "cell_type": "code",
   "execution_count": 23,
   "metadata": {},
   "outputs": [
    {
     "name": "stdout",
     "output_type": "stream",
     "text": [
      "8\n",
      "9\n",
      "1\n",
      "9\n",
      "8\n",
      "8\n",
      "9\n",
      "6\n",
      "6\n",
      "4\n"
     ]
    }
   ],
   "source": [
    "import random\n",
    "#亂數產生0-10\n",
    "for i in range(0,10):\n",
    "    print(random.randint(1,9)) #「randint」為「random」裡面的物件"
   ]
  },
  {
   "cell_type": "markdown",
   "metadata": {},
   "source": [
    "### 猜數字"
   ]
  },
  {
   "cell_type": "code",
   "execution_count": 24,
   "metadata": {},
   "outputs": [
    {
     "name": "stdout",
     "output_type": "stream",
     "text": [
      "請輸入1-20之間的數字-->1\n",
      "你猜錯了\n",
      "請輸入1-20之間的數字-->2\n",
      "你猜錯了\n",
      "請輸入1-20之間的數字-->3\n",
      "你猜錯了\n",
      "請輸入1-20之間的數字-->4\n",
      "你猜錯了\n",
      "請輸入1-20之間的數字-->5\n",
      "你猜錯了\n",
      "請輸入1-20之間的數字-->6\n",
      "你猜錯了\n",
      "請輸入1-20之間的數字-->7\n",
      "你猜錯了\n",
      "請輸入1-20之間的數字-->8\n",
      "你猜錯了\n",
      "請輸入1-20之間的數字-->9\n",
      "你猜錯了\n",
      "請輸入1-20之間的數字-->10\n",
      "你猜錯了\n",
      "請輸入1-20之間的數字-->11\n",
      "你猜錯了\n",
      "請輸入1-20之間的數字-->12\n",
      "你猜錯了\n",
      "請輸入1-20之間的數字-->13\n",
      "你猜錯了\n",
      "請輸入1-20之間的數字-->14\n",
      "你猜錯了\n",
      "請輸入1-20之間的數字-->15\n",
      "你猜錯了\n",
      "請輸入1-20之間的數字-->16\n",
      "你猜錯了\n",
      "請輸入1-20之間的數字-->17\n",
      "你猜對了，數字是 17\n"
     ]
    }
   ],
   "source": [
    "import random\n",
    "number = random.randint(1,20)\n",
    "while True:\n",
    "    guess = int(input(\"請輸入1-20之間的數字-->\"))\n",
    "    if guess == number:\n",
    "        print(\"你猜對了，數字是\", number)\n",
    "        break\n",
    "    else:\n",
    "        print(\"你猜錯了\")"
   ]
  },
  {
   "cell_type": "code",
   "execution_count": null,
   "metadata": {},
   "outputs": [],
   "source": []
  }
 ],
 "metadata": {
  "kernelspec": {
   "display_name": "Python 3",
   "language": "python",
   "name": "python3"
  },
  "language_info": {
   "codemirror_mode": {
    "name": "ipython",
    "version": 3
   },
   "file_extension": ".py",
   "mimetype": "text/x-python",
   "name": "python",
   "nbconvert_exporter": "python",
   "pygments_lexer": "ipython3",
   "version": "3.8.5"
  }
 },
 "nbformat": 4,
 "nbformat_minor": 4
}
