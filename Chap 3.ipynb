{
 "cells": [
  {
   "cell_type": "markdown",
   "metadata": {},
   "source": [
    "# Python物件\n",
    "## List[串列]Tuple(元組)Dictionary{字典}Sets{集合}"
   ]
  },
  {
   "cell_type": "markdown",
   "metadata": {},
   "source": [
    "## List[串列資料]\n",
    "##### 使用中括號[]包裹元素，元素可使用「,」區隔"
   ]
  },
  {
   "cell_type": "code",
   "execution_count": 2,
   "metadata": {},
   "outputs": [
    {
     "name": "stdout",
     "output_type": "stream",
     "text": [
      "18999\n"
     ]
    }
   ],
   "source": [
    "#串列加總\n",
    "expenses = [10357, 101, 856, 30, 7655] #命名「expenses」為串列裝裡面的資料\n",
    "\n",
    "#Python可以直接對串列做運算\n",
    "print(sum(expenses))"
   ]
  },
  {
   "cell_type": "markdown",
   "metadata": {},
   "source": [
    "## 索引"
   ]
  },
  {
   "cell_type": "code",
   "execution_count": 5,
   "metadata": {},
   "outputs": [
    {
     "name": "stdout",
     "output_type": "stream",
     "text": [
      "10357\n",
      "101\n",
      "7655\n",
      "30\n"
     ]
    }
   ],
   "source": [
    "'''為了方便閱讀而將「expenses」複製下來\n",
    "    此題可以「免重覆宣告陣列」'''\n",
    "expenses = [10357, 101, 856, 30, 7655] \n",
    "print(expenses[0]) #索引印出0的位置\n",
    "print(expenses[1]) \n",
    "\n",
    "\n",
    "'''從後面開始印'''\n",
    "print(expenses[-1]) #印出倒數第一個\n",
    "print(expenses[-2])"
   ]
  },
  {
   "cell_type": "code",
   "execution_count": 6,
   "metadata": {},
   "outputs": [
    {
     "name": "stdout",
     "output_type": "stream",
     "text": [
      "python\n"
     ]
    }
   ],
   "source": [
    "my_list0 = [] #空串列\n",
    "my_list1 = list()\n",
    "\n",
    "#陣列中可以用「''」OR「\"\"」來設定字串\n",
    "my_list2 = ['python', 'javascript', 'C#']\n",
    "\n",
    "#印出「my_list2」字串的第0位置\n",
    "print(my_list2[0])"
   ]
  },
  {
   "cell_type": "markdown",
   "metadata": {},
   "source": [
    "## list的長度"
   ]
  },
  {
   "cell_type": "code",
   "execution_count": 10,
   "metadata": {},
   "outputs": [
    {
     "name": "stdout",
     "output_type": "stream",
     "text": [
      "3\n",
      "6\n"
     ]
    }
   ],
   "source": [
    "'''為了方便閱讀而將「expenses」複製下來\n",
    "    此題可以「免重覆宣告陣列」'''\n",
    "my_list2 = ['python', 'javascript', 'C#']\n",
    "\n",
    "\n",
    "#「length」在Python內被縮減為「len」\n",
    "print(len(my_list2))\n",
    "print(len(my_list2[0]))"
   ]
  },
  {
   "cell_type": "markdown",
   "metadata": {},
   "source": [
    "## 附加"
   ]
  },
  {
   "cell_type": "code",
   "execution_count": 11,
   "metadata": {},
   "outputs": [
    {
     "name": "stdout",
     "output_type": "stream",
     "text": [
      "['python', 'javascript', 'C#', 'java']\n"
     ]
    }
   ],
   "source": [
    "'''為了方便閱讀而將「expenses」複製下來\n",
    "    此題可以「免重覆宣告陣列」'''\n",
    "my_list2 = ['python', 'javascript', 'C#']\n",
    "\n",
    "#將字串型態的「java」加進陣列「my_list2」內\n",
    "my_list2.append('java')\n",
    "print(my_list2)"
   ]
  },
  {
   "cell_type": "code",
   "execution_count": 12,
   "metadata": {},
   "outputs": [
    {
     "name": "stdout",
     "output_type": "stream",
     "text": [
      "['python', 'java', 'javascript', 'C#']\n"
     ]
    }
   ],
   "source": [
    "'''為了方便閱讀而將「expenses」複製下來\n",
    "    此題可以「免重覆宣告陣列」'''\n",
    "my_list2 = ['python', 'javascript', 'C#']\n",
    "\n",
    "'''將字串型態的「java」加進陣列「my_list2」的「第1位置」'''\n",
    "my_list2.insert(1,'java')\n",
    "print(my_list2)"
   ]
  },
  {
   "cell_type": "markdown",
   "metadata": {},
   "source": [
    "## 刪除"
   ]
  },
  {
   "cell_type": "code",
   "execution_count": 14,
   "metadata": {},
   "outputs": [
    {
     "name": "stdout",
     "output_type": "stream",
     "text": [
      "['javascript', 'C#']\n",
      "['javascript']\n",
      "[]\n"
     ]
    }
   ],
   "source": [
    "'''為了方便閱讀而將「expenses」複製下來\n",
    "    此題可以「免重覆宣告陣列」'''\n",
    "my_list2 = ['python', 'javascript', 'C#']\n",
    "\n",
    "#指定移除\n",
    "my_list2.remove('python') \n",
    "print(my_list2)\n",
    "\n",
    "#指定移除特定位置，「delete」在python的縮減為「del」\n",
    "del my_list2[-1]\n",
    "print(my_list2)\n",
    "\n",
    "#清除全部\n",
    "my_list2.clear()\n",
    "print(my_list2)"
   ]
  },
  {
   "cell_type": "markdown",
   "metadata": {},
   "source": [
    "## list取值"
   ]
  },
  {
   "cell_type": "code",
   "execution_count": 21,
   "metadata": {},
   "outputs": [
    {
     "name": "stdout",
     "output_type": "stream",
     "text": [
      "[1, 2, 3]\n",
      "[1, 3, 5, 7, 9]\n",
      "[1, 2, 3, 4, 5, 6, 7, 8, 9]\n",
      "[1, 2, 3, 4, 5, 6, 7, 8, 9]\n",
      "[1, 2, 3, 4, 5, 6, 7, 8, 9]\n"
     ]
    }
   ],
   "source": [
    "a = [1,2,3,4,5,6,7,8,9]\n",
    "\n",
    "#範圍取值，第0位取到第3位「前1位」\n",
    "b = a[0:3]\n",
    "print(b)\n",
    "\n",
    "'''跟for迴圈有點類似\n",
    "    for(int a = 0 ; a < 9 ; a=a+2)'''\n",
    "#間隔2取值\n",
    "c = a[0:9:2]\n",
    "print(c)\n",
    "\n",
    "#未輸入「:」後方(可用空格)的則為抓到最底\n",
    "d = a[0:]\n",
    "print(d)\n",
    "\n",
    "#未輸入「:」後方(可用空格)的則為從頭開始抓到第9個前一個\n",
    "e = a[ :9]\n",
    "print(e)\n",
    "\n",
    "#「:」前後(可用空格)都不寫則都印\n",
    "#格式跟直接輸出a相同\n",
    "f = a[:]\n",
    "print(f)"
   ]
  },
  {
   "cell_type": "code",
   "execution_count": 22,
   "metadata": {},
   "outputs": [
    {
     "name": "stdout",
     "output_type": "stream",
     "text": [
      "[1, 2, 3, 4, 5, 6, 7]\n",
      "1\n",
      "7\n",
      "0\n",
      "4\n",
      "[7, 6, 5, 4, 3, 2, 1]\n",
      "[1, 2, 3, 4, 5, 6, 7]\n"
     ]
    }
   ],
   "source": [
    "'''為了方便閱讀而將「expenses」複製下來\n",
    "    此題可以「免重覆宣告陣列」'''\n",
    "a = [1,2,3,4,5,6,7,8,9]\n",
    "\n",
    "#刪除某範圍值， 7，8\n",
    "del a[7:9]\n",
    "print(a)\n",
    "\n",
    "#印出最小值\n",
    "print(min(a))\n",
    "\n",
    "#印出最大值\n",
    "print(max(a))\n",
    "\n",
    "#找出1所在的第一個索引值\n",
    "print(a.index(1))\n",
    "\n",
    "b = [1,0,0,1,1,1]\n",
    "\n",
    "#1出現的次數\n",
    "print(b.count(1))\n",
    "\n",
    "#串列反轉\n",
    "a.reverse()\n",
    "print(a)\n",
    "\n",
    "#串列由小到大排序，a的值會被改變\n",
    "a.sort()\n",
    "print(a)"
   ]
  },
  {
   "cell_type": "code",
   "execution_count": 24,
   "metadata": {},
   "outputs": [
    {
     "name": "stdout",
     "output_type": "stream",
     "text": [
      "[30, 101, 856, 7655, 10357] [10357, 101, 856, 30, 7655]\n"
     ]
    }
   ],
   "source": [
    "'''為了方便閱讀而將「expenses」複製下來\n",
    "    此題可以「免重覆宣告陣列」'''\n",
    "expenses = [10357, 101, 856, 30, 7655] \n",
    "\n",
    "#將「expenses」陣列內的值，從小排大到\n",
    "s = sorted(expenses)\n",
    "print(s,expenses)"
   ]
  },
  {
   "cell_type": "code",
   "execution_count": null,
   "metadata": {},
   "outputs": [],
   "source": []
  }
 ],
 "metadata": {
  "kernelspec": {
   "display_name": "Python 3",
   "language": "python",
   "name": "python3"
  },
  "language_info": {
   "codemirror_mode": {
    "name": "ipython",
    "version": 3
   },
   "file_extension": ".py",
   "mimetype": "text/x-python",
   "name": "python",
   "nbconvert_exporter": "python",
   "pygments_lexer": "ipython3",
   "version": "3.8.5"
  }
 },
 "nbformat": 4,
 "nbformat_minor": 4
}
