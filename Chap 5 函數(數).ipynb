{
 "cells": [
  {
   "cell_type": "markdown",
   "metadata": {},
   "source": [
    "## Chap 5 函數(數)\n",
    "#### 傳統的寫法"
   ]
  },
  {
   "cell_type": "code",
   "execution_count": 2,
   "metadata": {},
   "outputs": [
    {
     "name": "stdout",
     "output_type": "stream",
     "text": [
      "請輸入圓的半徑：10.1\n",
      "圓的半徑為： 320.4738665926948\n"
     ]
    }
   ],
   "source": [
    "#套用「math」這個套件\n",
    "import math\n",
    "\n",
    "#宣告「radius」盛裝「eval」從input(\"請輸入圓的半徑：\")所轉換的值\n",
    "'''「eval」把輸入的字串變成數學計算型態\n",
    "    亦可以把字串的計算式轉成數學計算型態直接計算'''\n",
    "radius = eval(input(\"請輸入圓的半徑：\"))\n",
    "\n",
    "#印出圓的半徑\n",
    "print(\"圓的半徑為：\", radius * radius * math.pi)\n",
    "\n"
   ]
  },
  {
   "cell_type": "markdown",
   "metadata": {},
   "source": [
    "### 面積計算函示"
   ]
  },
  {
   "cell_type": "code",
   "execution_count": 4,
   "metadata": {},
   "outputs": [
    {
     "name": "stdout",
     "output_type": "stream",
     "text": [
      "314.1592653589793\n"
     ]
    }
   ],
   "source": [
    "#套用「math」，上面已宣告過可免宣告\n",
    "import math\n",
    "\n",
    "#當接收到「circle_area()」時，宣告裡面的資料名稱為「radius」\n",
    "def circle_area(radius):\n",
    "    #為「area」盛裝計算後結果\n",
    "    area = radius * radius * math.pi\n",
    "    #回傳資料\n",
    "    return area\n",
    "\n",
    "#印出「circle_area(10)」計算程序往上看!!!!\n",
    "print(circle_area(10))"
   ]
  },
  {
   "cell_type": "code",
   "execution_count": null,
   "metadata": {},
   "outputs": [],
   "source": []
  }
 ],
 "metadata": {
  "kernelspec": {
   "display_name": "Python 3",
   "language": "python",
   "name": "python3"
  },
  "language_info": {
   "codemirror_mode": {
    "name": "ipython",
    "version": 3
   },
   "file_extension": ".py",
   "mimetype": "text/x-python",
   "name": "python",
   "nbconvert_exporter": "python",
   "pygments_lexer": "ipython3",
   "version": "3.8.5"
  }
 },
 "nbformat": 4,
 "nbformat_minor": 4
}
