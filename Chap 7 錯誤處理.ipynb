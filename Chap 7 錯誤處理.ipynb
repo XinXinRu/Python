{
 "cells": [
  {
   "cell_type": "markdown",
   "metadata": {},
   "source": [
    "# Chap7 錯誤處理\n",
    "* try:\n",
    "* except:\n",
    "* else:\n",
    "* finally:"
   ]
  },
  {
   "cell_type": "code",
   "execution_count": 1,
   "metadata": {},
   "outputs": [],
   "source": [
    "a = 10 \n",
    "b = 20\n",
    "\n",
    "#如果a>b的情況下印出來\n",
    "if a>b:\n",
    "    \n",
    "    #沒有宣告參數(ex:n)的情況下要將參數印出將會顯示錯誤訊息\n",
    "    print(n)"
   ]
  },
  {
   "cell_type": "code",
   "execution_count": 2,
   "metadata": {},
   "outputs": [],
   "source": [
    "a = 10\n",
    "b = 20\n",
    "\n",
    "#此行為與C#中的判斷錯誤類似\n",
    "#將程式交給使用者後希望不要讓使用者看到錯誤訊息可用此方法!!\n",
    "try:\n",
    "    if a>b:\n",
    "        print(n)\n",
    "except:\n",
    "    print(\"錯誤產生\")"
   ]
  },
  {
   "cell_type": "markdown",
   "metadata": {},
   "source": [
    "## 指定錯誤類別處理"
   ]
  },
  {
   "cell_type": "code",
   "execution_count": 3,
   "metadata": {},
   "outputs": [
    {
     "name": "stdout",
     "output_type": "stream",
     "text": [
      "錯誤產生，錯誤原因： name 'n' is not defined\n"
     ]
    }
   ],
   "source": [
    "a = 10\n",
    "b = 20\n",
    "\n",
    "#此行為與C#中的判斷錯誤類似\n",
    "#將程式交給使用者後希望不要讓使用者看到錯誤訊息可用此方法!!\n",
    "try:\n",
    "    if a<b:\n",
    "        #沒有宣告參數(ex:n)的情況下要將參數印出將會顯示錯誤訊息\n",
    "        print(n)\n",
    "\n",
    "#名稱錯誤\n",
    "except NameError as NE:\n",
    "    print(\"錯誤產生，錯誤原因：\", NE)\n",
    "\n",
    "#設定的參數錯誤\n",
    "except ZeroDivisionError as ZD:\n",
    "    print(\"錯誤產生，錯誤原因：\", ZD)"
   ]
  },
  {
   "cell_type": "markdown",
   "metadata": {},
   "source": [
    "## else\n",
    "沒有錯誤產生的部分"
   ]
  },
  {
   "cell_type": "code",
   "execution_count": 4,
   "metadata": {},
   "outputs": [
    {
     "name": "stdout",
     "output_type": "stream",
     "text": [
      "沒有錯誤發生時會執行\n",
      "不管有沒有發生錯誤皆會執行\n"
     ]
    }
   ],
   "source": [
    "a = 10\n",
    "b = 20\n",
    "try:\n",
    "    #運用改變比較條件，上錯誤不發生\n",
    "    if a>b:\n",
    "        print(n)\n",
    "    \n",
    "#因上面的比較條件更改，此行則不會執行\n",
    "except:\n",
    "    print(\"錯誤發生\")\n",
    "\n",
    "#可以間接確認錯誤沒有發生\n",
    "else:\n",
    "    print(\"沒有錯誤發生時會執行\")\n",
    "\n",
    "#不管有沒有發生錯誤皆會執行\n",
    "finally:\n",
    "    print(\"不管有沒有發生錯誤皆會執行\")"
   ]
  },
  {
   "cell_type": "code",
   "execution_count": null,
   "metadata": {},
   "outputs": [],
   "source": []
  }
 ],
 "metadata": {
  "kernelspec": {
   "display_name": "Python 3",
   "language": "python",
   "name": "python3"
  },
  "language_info": {
   "codemirror_mode": {
    "name": "ipython",
    "version": 3
   },
   "file_extension": ".py",
   "mimetype": "text/x-python",
   "name": "python",
   "nbconvert_exporter": "python",
   "pygments_lexer": "ipython3",
   "version": "3.8.5"
  }
 },
 "nbformat": 4,
 "nbformat_minor": 4
}
