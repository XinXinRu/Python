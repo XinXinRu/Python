{
 "cells": [
  {
   "cell_type": "markdown",
   "metadata": {},
   "source": [
    "# Chap1運算式、變數與資料型別\n",
    "###### 標題與註解方式大同小異皆是使用「#」越多「#」字體越小"
   ]
  },
  {
   "cell_type": "code",
   "execution_count": 2,
   "metadata": {},
   "outputs": [
    {
     "name": "stdout",
     "output_type": "stream",
     "text": [
      "8\n"
     ]
    }
   ],
   "source": [
    "a = 3 #單行註解\n",
    "b = 5\n",
    "print(a+b)"
   ]
  },
  {
   "cell_type": "code",
   "execution_count": 3,
   "metadata": {},
   "outputs": [
    {
     "data": {
      "text/plain": [
       "6"
      ]
     },
     "execution_count": 3,
     "metadata": {},
     "output_type": "execute_result"
    }
   ],
   "source": [
    "'''註解形式'''\n",
    "#「#」為單行註解\n",
    "#「'''」為多行註解\n",
    "a = 1\n",
    "b = 5\n",
    "a + b"
   ]
  },
  {
   "cell_type": "markdown",
   "metadata": {},
   "source": [
    "### 運算式(變數交換)"
   ]
  },
  {
   "cell_type": "code",
   "execution_count": 9,
   "metadata": {},
   "outputs": [
    {
     "name": "stdout",
     "output_type": "stream",
     "text": [
      "10\n",
      "1\n"
     ]
    }
   ],
   "source": [
    "#一般交換方式\n",
    "x=1\n",
    "y=10\n",
    "\n",
    "z=x #z裝x z=1\n",
    "x=y #x裝y x=10\n",
    "y=z #y裝z y=1\n",
    "print(x)\n",
    "print(y)"
   ]
  },
  {
   "cell_type": "code",
   "execution_count": 6,
   "metadata": {},
   "outputs": [
    {
     "name": "stdout",
     "output_type": "stream",
     "text": [
      "10\n",
      "1\n"
     ]
    }
   ],
   "source": [
    "#加減交換方式\n",
    "x=1\n",
    "y=10\n",
    "\n",
    "x=x+y #x=1+10  =11\n",
    "y=x-y #y=11-10 =1\n",
    "x=x-y #x=11-1  =10\n",
    "print(x)\n",
    "print(y)"
   ]
  },
  {
   "cell_type": "code",
   "execution_count": 7,
   "metadata": {},
   "outputs": [
    {
     "name": "stdout",
     "output_type": "stream",
     "text": [
      "10\n",
      "1\n"
     ]
    }
   ],
   "source": [
    "#python版本的變數交換\n",
    "x=1\n",
    "y=10\n",
    "x,y = y,x #直接將x跟y交換\n",
    "print(x)\n",
    "print(y)"
   ]
  },
  {
   "cell_type": "markdown",
   "metadata": {},
   "source": [
    "## 變數\n",
    "### 變數的平行設定"
   ]
  },
  {
   "cell_type": "code",
   "execution_count": 8,
   "metadata": {},
   "outputs": [
    {
     "name": "stdout",
     "output_type": "stream",
     "text": [
      "3\n",
      "4\n",
      "5\n"
     ]
    }
   ],
   "source": [
    "x, y, z = 3, 4, 5\n",
    "print(x)\n",
    "print(y)\n",
    "print(z)"
   ]
  },
  {
   "cell_type": "code",
   "execution_count": 14,
   "metadata": {},
   "outputs": [
    {
     "name": "stdout",
     "output_type": "stream",
     "text": [
      "5 20 125\n"
     ]
    }
   ],
   "source": [
    "x, y, z = 3, 4, 5\n",
    "\n",
    "###運算方式也跟一般運算方不同\n",
    "x += 2  #x=x+2\n",
    "y *= 5  #x=y*5\n",
    "z **= 3 #z=z^3\n",
    "\n",
    "print(x, y, z)"
   ]
  },
  {
   "cell_type": "markdown",
   "metadata": {},
   "source": [
    "### 變數的應用\n",
    "Q：邊長為3, 4, 5的三角形，其面積大小為何？\n",
    "<br>海龍公式：\n",
    "<br>s=(a+b+c)/2\n",
    "<br>sqrt(s(s-a)(s-b)(s-c)))\n",
    "\n",
    "換行方式可以在句尾加上「兩個空白」OR直接打上「< br >」"
   ]
  },
  {
   "cell_type": "code",
   "execution_count": 18,
   "metadata": {},
   "outputs": [
    {
     "name": "stdout",
     "output_type": "stream",
     "text": [
      "6.0\n"
     ]
    }
   ],
   "source": [
    "import math #「import」套用「math」數學套件\n",
    "a,b,c = 3,4,5\n",
    "s=(a+b+c)/2\n",
    "d = math.sqrt(s*(s-a)*(s-b)*(s-c))\n",
    "print(d)"
   ]
  },
  {
   "cell_type": "markdown",
   "metadata": {},
   "source": [
    "Q：半徑為10的圓形，其面積大小為何？"
   ]
  },
  {
   "cell_type": "code",
   "execution_count": 20,
   "metadata": {},
   "outputs": [
    {
     "name": "stdout",
     "output_type": "stream",
     "text": [
      "314.1592653589793\n"
     ]
    }
   ],
   "source": [
    "import math #若程式碼中已有套用過的則免再寫\n",
    "r=10 #「r」在數學裡面稱為「半徑」\n",
    "print(r*r*math.pi)"
   ]
  },
  {
   "cell_type": "markdown",
   "metadata": {},
   "source": [
    "## 資料型態\n",
    "###### python有個好處是依照程式設計師的宣告自動判斷資料型態\n",
    "python屬於動態類型變數，使用前不需要宣告資料型態"
   ]
  },
  {
   "cell_type": "code",
   "execution_count": 2,
   "metadata": {},
   "outputs": [
    {
     "name": "stdout",
     "output_type": "stream",
     "text": [
      "<class 'int'>\n",
      "<class 'float'>\n",
      "<class 'str'>\n"
     ]
    }
   ],
   "source": [
    "#「int」整數、「float」單精度、「str」字串\n",
    "x=254\n",
    "print(type(x)) #顯示x的資料型態\n",
    "y=254.0\n",
    "print(type(y)) #顯示y的資料型態\n",
    "z='write'\n",
    "print(type(z)) #顯示z的資料型態"
   ]
  },
  {
   "cell_type": "markdown",
   "metadata": {},
   "source": [
    "## 算術符號"
   ]
  },
  {
   "cell_type": "code",
   "execution_count": 5,
   "metadata": {},
   "outputs": [
    {
     "name": "stdout",
     "output_type": "stream",
     "text": [
      "3.3333333333333335\n",
      "3\n",
      "1\n"
     ]
    }
   ],
   "source": [
    "#電腦做算仍是會有錯誤的時候，並不能完全相信，只能說他趨近於對\n",
    "x=10\n",
    "y=3\n",
    "print(x/y)  #「/」除法\n",
    "print(x//y) #「//」取商\n",
    "print(x%y)  #「%」取餘數"
   ]
  },
  {
   "cell_type": "markdown",
   "metadata": {},
   "source": [
    "### 注意數字的正確性\n",
    "注意數字的正確性"
   ]
  },
  {
   "cell_type": "code",
   "execution_count": 6,
   "metadata": {},
   "outputs": [
    {
     "name": "stdout",
     "output_type": "stream",
     "text": [
      "0.0015926539999999711\n"
     ]
    }
   ],
   "source": [
    "#運算類型不建議使用內建運算\n",
    "x=3.141592654\n",
    "print(x-3.14) #比輸入值略小"
   ]
  },
  {
   "cell_type": "markdown",
   "metadata": {},
   "source": [
    "## 關係比較"
   ]
  },
  {
   "cell_type": "code",
   "execution_count": 8,
   "metadata": {},
   "outputs": [
    {
     "name": "stdout",
     "output_type": "stream",
     "text": [
      "True\n",
      "False\n",
      "20\n"
     ]
    }
   ],
   "source": [
    "print(10==10)\n",
    "x, y = 10, 20\n",
    "print(x==y)  #「==」關係/判斷比較\n",
    "x=y          #「=」指派值\n",
    "print(x)"
   ]
  },
  {
   "cell_type": "markdown",
   "metadata": {},
   "source": [
    "### 關係運算，以閏年為例\n",
    "西元年份除以4不可整除，為平年 <br>\n",
    "西元年份除以4可整除，且除以100不可整除，為閏年<br>\n",
    "西元年份除以100可整除，且除以400不可整除，為平年<br>\n",
    "西元年份除以400可整除，為閏年"
   ]
  },
  {
   "cell_type": "code",
   "execution_count": 9,
   "metadata": {},
   "outputs": [
    {
     "name": "stdout",
     "output_type": "stream",
     "text": [
      "False\n",
      "True\n",
      "False\n",
      "True\n"
     ]
    }
   ],
   "source": [
    "y=2010\n",
    "print(y%4==0 and y%100!=0 or y%400==0)\n",
    "y=2012\n",
    "print(y%4==0 and y%100!=0 or y%400==0)\n",
    "y=1900\n",
    "print(y%4==0 and y%100!=0 or y%400==0)\n",
    "y=2000\n",
    "print(y%4==0 and y%100!=0 or y%400==0)"
   ]
  },
  {
   "cell_type": "markdown",
   "metadata": {},
   "source": [
    "## 型態轉換"
   ]
  },
  {
   "cell_type": "code",
   "execution_count": 16,
   "metadata": {},
   "outputs": [
    {
     "name": "stdout",
     "output_type": "stream",
     "text": [
      "mustmustmustmustmustmustmustmustmustmust\n",
      "10must\n",
      "10 must\n"
     ]
    }
   ],
   "source": [
    "#請注意!!不同型態之間所得到的結果跟想像不同\n",
    "x=\"must\"\n",
    "print(10*x) #會判定為將x(目前為str)的值顯示10次\n",
    "#print(10+x) 為認定為錯誤\n",
    "print(\"10\"+x) \n",
    "print(10,x)"
   ]
  },
  {
   "cell_type": "code",
   "execution_count": 18,
   "metadata": {},
   "outputs": [
    {
     "name": "stdout",
     "output_type": "stream",
     "text": [
      "<class 'int'>\n",
      "<class 'float'>\n",
      "123\n",
      "123\n",
      "123\n"
     ]
    }
   ],
   "source": [
    "x=12\n",
    "print(type(x))\n",
    "y=float(x)+0.5 #強制將x的型態轉換\n",
    "print(type(y))\n",
    "print(int(\"123\")) #將字串123型態更改「int」\n",
    "print(int(123.33)) #將數字123.33型態更改為「int 」\n",
    "print(int(float(\"123.33\"))) #將字串123.33更改為「float」再更改為「int」"
   ]
  },
  {
   "cell_type": "code",
   "execution_count": 21,
   "metadata": {},
   "outputs": [
    {
     "name": "stdout",
     "output_type": "stream",
     "text": [
      "The value of x is 32.5and y is 40000\n",
      "The value of x is  32.5 and y is  40000\n",
      "The value of x is 32.5 and y is 40000\n"
     ]
    }
   ],
   "source": [
    "#字串型別轉換\n",
    "x=10*3.25 #x=32.5\n",
    "y=200*200 #y=40000\n",
    "\n",
    "''''方法一'''\n",
    "#「\"\"」跟「''」在python視為同等將「內容」轉為字串\n",
    "s=\"The value of x is \" + str(x) + 'and y is ' + str(y)\n",
    "print(s)\n",
    "'''方法二'''\n",
    "#用「,」取代字串中的「+」\n",
    "print(\"The value of x is \", x, \"and y is \", y)\n",
    "'''方法三'''\n",
    "#用「{}}」取代字串中的「+」\n",
    "print(\"The value of x is {} and y is {}\".format(x,y))\n",
    "\n",
    "#三種方法看似不宜樣但顯示的答案卻是相同的"
   ]
  },
  {
   "cell_type": "markdown",
   "metadata": {},
   "source": [
    "## 非內建模組"
   ]
  },
  {
   "cell_type": "code",
   "execution_count": 24,
   "metadata": {},
   "outputs": [
    {
     "name": "stdout",
     "output_type": "stream",
     "text": [
      "3.141592653589793\n",
      "8.0\n",
      "26.423892221536985\n",
      "5.0\n"
     ]
    }
   ],
   "source": [
    "import math \n",
    "print(math.pi)\n",
    "print(math.pow(2,3))\n",
    "print(8.3*10.58*math.sin(37.0/180*math.pi)/2)\n",
    "print(math.sqrt(25))"
   ]
  },
  {
   "cell_type": "markdown",
   "metadata": {},
   "source": [
    "### 範例:計算圓面積"
   ]
  },
  {
   "cell_type": "code",
   "execution_count": 25,
   "metadata": {},
   "outputs": [
    {
     "name": "stdout",
     "output_type": "stream",
     "text": [
      "請輸入圓的半徑：10\n",
      "圓面積： 314.1592653589793\n"
     ]
    }
   ],
   "source": [
    "import math\n",
    "#讓使用者有可以輸入的地方\n",
    "r=input(\"請輸入圓的半徑：\")\n",
    "area=float(r)*float(r)*math.pi\n",
    "print(\"圓面積：\",area)"
   ]
  },
  {
   "cell_type": "markdown",
   "metadata": {},
   "source": [
    "### 應用題：計算矩形面積"
   ]
  },
  {
   "cell_type": "code",
   "execution_count": 27,
   "metadata": {},
   "outputs": [
    {
     "name": "stdout",
     "output_type": "stream",
     "text": [
      "請輸入矩形長：5\n",
      "請輸入矩形寬：3\n",
      "矩形面積： 15.0\n"
     ]
    }
   ],
   "source": [
    "import math\n",
    "#上題已經有套用「math」的套件可免再次套用\n",
    "long = input(\"請輸入矩形長：\")\n",
    "width = input(\"請輸入矩形寬：\")\n",
    "#別忘了在計算時記得將變數變更型態\n",
    "ans = float(long) * float(width) \n",
    "print(\"矩形面積：\", ans)"
   ]
  },
  {
   "cell_type": "code",
   "execution_count": null,
   "metadata": {},
   "outputs": [],
   "source": []
  }
 ],
 "metadata": {
  "kernelspec": {
   "display_name": "Python 3",
   "language": "python",
   "name": "python3"
  },
  "language_info": {
   "codemirror_mode": {
    "name": "ipython",
    "version": 3
   },
   "file_extension": ".py",
   "mimetype": "text/x-python",
   "name": "python",
   "nbconvert_exporter": "python",
   "pygments_lexer": "ipython3",
   "version": "3.8.5"
  }
 },
 "nbformat": 4,
 "nbformat_minor": 4
}
