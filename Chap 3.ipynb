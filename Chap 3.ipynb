{
 "cells": [
  {
   "cell_type": "markdown",
   "metadata": {},
   "source": [
    "# Python物件\n",
    "## List[串列]Tuple(元組)Dictionary{字典}Sets{集合}"
   ]
  },
  {
   "cell_type": "markdown",
   "metadata": {},
   "source": [
    "## List[串列資料]\n",
    "##### 使用中括號[]包裹元素，元素可使用「,」區隔"
   ]
  },
  {
   "cell_type": "code",
   "execution_count": 2,
   "metadata": {},
   "outputs": [
    {
     "name": "stdout",
     "output_type": "stream",
     "text": [
      "18999\n"
     ]
    }
   ],
   "source": [
    "#串列加總\n",
    "expenses = [10357, 101, 856, 30, 7655] #命名「expenses」為串列裝裡面的資料\n",
    "\n",
    "#Python可以直接對串列做運算\n",
    "print(sum(expenses))"
   ]
  },
  {
   "cell_type": "markdown",
   "metadata": {},
   "source": [
    "## 索引"
   ]
  },
  {
   "cell_type": "code",
   "execution_count": 5,
   "metadata": {},
   "outputs": [
    {
     "name": "stdout",
     "output_type": "stream",
     "text": [
      "10357\n",
      "101\n",
      "7655\n",
      "30\n"
     ]
    }
   ],
   "source": [
    "'''為了方便閱讀而將「expenses」複製下來\n",
    "    此題可以「免重覆宣告陣列」'''\n",
    "expenses = [10357, 101, 856, 30, 7655] \n",
    "print(expenses[0]) #索引印出0的位置\n",
    "print(expenses[1]) \n",
    "\n",
    "\n",
    "'''從後面開始印'''\n",
    "print(expenses[-1]) #印出倒數第一個\n",
    "print(expenses[-2])"
   ]
  },
  {
   "cell_type": "code",
   "execution_count": 6,
   "metadata": {},
   "outputs": [
    {
     "name": "stdout",
     "output_type": "stream",
     "text": [
      "python\n"
     ]
    }
   ],
   "source": [
    "my_list0 = [] #空串列\n",
    "my_list1 = list()\n",
    "\n",
    "#陣列中可以用「''」OR「\"\"」來設定字串\n",
    "my_list2 = ['python', 'javascript', 'C#']\n",
    "\n",
    "#印出「my_list2」字串的第0位置\n",
    "print(my_list2[0])"
   ]
  },
  {
   "cell_type": "markdown",
   "metadata": {},
   "source": [
    "## list的長度"
   ]
  },
  {
   "cell_type": "code",
   "execution_count": 10,
   "metadata": {},
   "outputs": [
    {
     "name": "stdout",
     "output_type": "stream",
     "text": [
      "3\n",
      "6\n"
     ]
    }
   ],
   "source": [
    "'''為了方便閱讀而將「expenses」複製下來\n",
    "    此題可以「免重覆宣告陣列」'''\n",
    "my_list2 = ['python', 'javascript', 'C#']\n",
    "\n",
    "\n",
    "#「length」在Python內被縮減為「len」\n",
    "print(len(my_list2))\n",
    "print(len(my_list2[0]))"
   ]
  },
  {
   "cell_type": "markdown",
   "metadata": {},
   "source": [
    "## 附加"
   ]
  },
  {
   "cell_type": "code",
   "execution_count": 11,
   "metadata": {},
   "outputs": [
    {
     "name": "stdout",
     "output_type": "stream",
     "text": [
      "['python', 'javascript', 'C#', 'java']\n"
     ]
    }
   ],
   "source": [
    "'''為了方便閱讀而將「expenses」複製下來\n",
    "    此題可以「免重覆宣告陣列」'''\n",
    "my_list2 = ['python', 'javascript', 'C#']\n",
    "\n",
    "#將字串型態的「java」加進陣列「my_list2」內\n",
    "my_list2.append('java')\n",
    "print(my_list2)"
   ]
  },
  {
   "cell_type": "code",
   "execution_count": 12,
   "metadata": {},
   "outputs": [
    {
     "name": "stdout",
     "output_type": "stream",
     "text": [
      "['python', 'java', 'javascript', 'C#']\n"
     ]
    }
   ],
   "source": [
    "'''為了方便閱讀而將「expenses」複製下來\n",
    "    此題可以「免重覆宣告陣列」'''\n",
    "my_list2 = ['python', 'javascript', 'C#']\n",
    "\n",
    "'''將字串型態的「java」加進陣列「my_list2」的「第1位置」'''\n",
    "my_list2.insert(1,'java')\n",
    "print(my_list2)"
   ]
  },
  {
   "cell_type": "markdown",
   "metadata": {},
   "source": [
    "## 刪除"
   ]
  },
  {
   "cell_type": "code",
   "execution_count": 14,
   "metadata": {},
   "outputs": [
    {
     "name": "stdout",
     "output_type": "stream",
     "text": [
      "['javascript', 'C#']\n",
      "['javascript']\n",
      "[]\n"
     ]
    }
   ],
   "source": [
    "'''為了方便閱讀而將「expenses」複製下來\n",
    "    此題可以「免重覆宣告陣列」'''\n",
    "my_list2 = ['python', 'javascript', 'C#']\n",
    "\n",
    "#指定移除\n",
    "my_list2.remove('python') \n",
    "print(my_list2)\n",
    "\n",
    "#指定移除特定位置，「delete」在python的縮減為「del」\n",
    "del my_list2[-1]\n",
    "print(my_list2)\n",
    "\n",
    "#清除全部\n",
    "my_list2.clear()\n",
    "print(my_list2)"
   ]
  },
  {
   "cell_type": "markdown",
   "metadata": {},
   "source": [
    "## list取值"
   ]
  },
  {
   "cell_type": "code",
   "execution_count": 21,
   "metadata": {},
   "outputs": [
    {
     "name": "stdout",
     "output_type": "stream",
     "text": [
      "[1, 2, 3]\n",
      "[1, 3, 5, 7, 9]\n",
      "[1, 2, 3, 4, 5, 6, 7, 8, 9]\n",
      "[1, 2, 3, 4, 5, 6, 7, 8, 9]\n",
      "[1, 2, 3, 4, 5, 6, 7, 8, 9]\n"
     ]
    }
   ],
   "source": [
    "a = [1,2,3,4,5,6,7,8,9]\n",
    "\n",
    "#範圍取值，第0位取到第3位「前1位」\n",
    "b = a[0:3]\n",
    "print(b)\n",
    "\n",
    "'''跟for迴圈有點類似\n",
    "    for(int a = 0 ; a < 9 ; a=a+2)'''\n",
    "#間隔2取值\n",
    "c = a[0:9:2]\n",
    "print(c)\n",
    "\n",
    "#未輸入「:」後方(可用空格)的則為抓到最底\n",
    "d = a[0:]\n",
    "print(d)\n",
    "\n",
    "#未輸入「:」後方(可用空格)的則為從頭開始抓到第9個前一個\n",
    "e = a[ :9]\n",
    "print(e)\n",
    "\n",
    "#「:」前後(可用空格)都不寫則都印\n",
    "#格式跟直接輸出a相同\n",
    "f = a[:]\n",
    "print(f)"
   ]
  },
  {
   "cell_type": "code",
   "execution_count": 22,
   "metadata": {},
   "outputs": [
    {
     "name": "stdout",
     "output_type": "stream",
     "text": [
      "[1, 2, 3, 4, 5, 6, 7]\n",
      "1\n",
      "7\n",
      "0\n",
      "4\n",
      "[7, 6, 5, 4, 3, 2, 1]\n",
      "[1, 2, 3, 4, 5, 6, 7]\n"
     ]
    }
   ],
   "source": [
    "'''為了方便閱讀而將「expenses」複製下來\n",
    "    此題可以「免重覆宣告陣列」'''\n",
    "a = [1,2,3,4,5,6,7,8,9]\n",
    "\n",
    "#刪除某範圍值， 7，8\n",
    "del a[7:9]\n",
    "print(a)\n",
    "\n",
    "#印出最小值\n",
    "print(min(a))\n",
    "\n",
    "#印出最大值\n",
    "print(max(a))\n",
    "\n",
    "#找出1所在的第一個索引值\n",
    "print(a.index(1))\n",
    "\n",
    "b = [1,0,0,1,1,1]\n",
    "\n",
    "#1出現的次數\n",
    "print(b.count(1))\n",
    "\n",
    "#串列反轉\n",
    "a.reverse()\n",
    "print(a)\n",
    "\n",
    "#串列由小到大排序，a的值會被改變\n",
    "a.sort()\n",
    "print(a)"
   ]
  },
  {
   "cell_type": "code",
   "execution_count": 24,
   "metadata": {},
   "outputs": [
    {
     "name": "stdout",
     "output_type": "stream",
     "text": [
      "[30, 101, 856, 7655, 10357] [10357, 101, 856, 30, 7655]\n"
     ]
    }
   ],
   "source": [
    "'''為了方便閱讀而將「expenses」複製下來\n",
    "    此題可以「免重覆宣告陣列」'''\n",
    "expenses = [10357, 101, 856, 30, 7655] \n",
    "\n",
    "#將「expenses」陣列內的值，從小排大到\n",
    "s = sorted(expenses)\n",
    "print(s,expenses)"
   ]
  },
  {
   "cell_type": "markdown",
   "metadata": {},
   "source": [
    "## Tuple(元祖)\n",
    "Tuple(元祖)可以視為不可改變的串列(list)。Tuple跟list很像，但是不能新增刪除或更新Tuple的元素。\n",
    "\n",
    "tuple比起list的好處：\n",
    "* 佔用空間小\n",
    "* 可以當作dictionary(字典)的key\n",
    "* 具名tuple當作物件替代\n",
    "* 當作函式的引數"
   ]
  },
  {
   "cell_type": "code",
   "execution_count": 3,
   "metadata": {},
   "outputs": [
    {
     "name": "stdout",
     "output_type": "stream",
     "text": [
      "('python', 'Java', 'C#')\n",
      "('python', 'Java', 'C#')\n",
      "Java\n"
     ]
    }
   ],
   "source": [
    "a_list = ['python', 'Java', 'C#'] #a_list承裝三個元素\n",
    "\n",
    "#承裝「封閉」的串列，不能當作做任何的修改動作\n",
    "a_tuple = tuple(a_list) \n",
    "b_tuple = ('python', 'Java', 'C#')\n",
    "\n",
    "#印出來的結果會差不多\n",
    "print(a_tuple)\n",
    "print(b_tuple)\n",
    "\n",
    "#指定印出串列第二個\n",
    "''' 格式跟陣列相同從0開始\n",
    "    需注意\"()\"與\"[]\"的不同之處\n",
    "    \"()\"為函式作用通常是接收傳進來的資料，經過特定的處理，再傳回結果\n",
    "    \"[]\"為參數'''\n",
    "print(a_tuple[1])"
   ]
  },
  {
   "cell_type": "markdown",
   "metadata": {},
   "source": [
    "## Dictionary - dict(字典)\n",
    "##### dict為帶有鍵值(key)的串列\n",
    "* 表示方式為{}"
   ]
  },
  {
   "cell_type": "code",
   "execution_count": 10,
   "metadata": {},
   "outputs": [
    {
     "name": "stdout",
     "output_type": "stream",
     "text": [
      "python\n",
      "python\n",
      "5.8\n",
      "{50: 'python', 10: '5.8'}\n",
      "python\n"
     ]
    }
   ],
   "source": [
    "languages = {}\n",
    "''' 使用{}可以改變原先串列名稱\n",
    "    如:第0格內容為python\n",
    "    改為第0格名稱為「name」內容為「python」'''\n",
    "languages = {'name':'python', 'version':'5.8'}\n",
    "print(languages['name'])\n",
    "\n",
    "a_list = ['python', '5.8']\n",
    "\n",
    "'''要改變串列的名稱需要使用「{}」切記切記'''\n",
    "a_dict = {50:'python', 10:'5.8'}\n",
    "\n",
    "#印出「a_list[0]跟a_list[1]」的內容\n",
    "print(a_list[0])\n",
    "print(a_list[1])\n",
    "\n",
    "#印出「a_dict」全部的內容\n",
    "print(a_dict)\n",
    "#dict就是索引值可以改變的list\n",
    "#print(a_dict[50])是印出名稱為50的內容\n",
    "print(a_dict[50])"
   ]
  },
  {
   "cell_type": "code",
   "execution_count": 15,
   "metadata": {},
   "outputs": [
    {
     "name": "stdout",
     "output_type": "stream",
     "text": [
      "python\n",
      "{'name': 'python', 'version': '5.8'}\n",
      "dict_keys(['name', 'version'])\n",
      "dict_values(['python', '5.8'])\n",
      "dict_items([('name', 'python'), ('version', '5.8')])\n",
      "name是否在languages內 True\n",
      "version是否在languages內 True\n",
      "egg是否在languages內 False\n"
     ]
    }
   ],
   "source": [
    "'''上面宣告過可免宣告'''\n",
    "languages = {'name':'python', 'version':'5.8'}\n",
    "\n",
    "#印出名為name的鍵值\n",
    "print(languages['name'])\n",
    "\n",
    "#印出languauges所有內容(免輸入括弧)\n",
    "print(languages)\n",
    "\n",
    "#印出languauges鍵值名稱\n",
    "print(languages.keys())\n",
    "\n",
    "#印出languauges鍵值內容\n",
    "print(languages.values())\n",
    "\n",
    "#印出languaues鍵值所有內容\n",
    "print(languages.items())\n",
    "\n",
    "#判斷「指定鍵值名稱」是否在「languages」內\n",
    "print(\"name是否在languages內\",'name' in languages)\n",
    "print(\"version是否在languages內\",'version' in languages)\n",
    "print(\"egg是否在languages內\",'egg' in languages)"
   ]
  },
  {
   "cell_type": "code",
   "execution_count": 18,
   "metadata": {},
   "outputs": [
    {
     "name": "stdout",
     "output_type": "stream",
     "text": [
      "擲出骰子點數：\n",
      "三點\n"
     ]
    }
   ],
   "source": [
    "#套用骰子\n",
    "import random\n",
    "\n",
    "'''未套用dict方法'''\n",
    "#宣告dice為骰子，並且骰出1-6\n",
    "dice = random.randint(1,6)\n",
    "print(\"擲出骰子點數：\")\n",
    "\n",
    "#「elif」在python為「else if」縮寫\n",
    "if dice == 1:\n",
    "    print(\"一點\")\n",
    "elif dice == 2:\n",
    "    print(\"二點\")\n",
    "elif dice == 3:\n",
    "    print(\"三點\")\n",
    "elif dice == 4:\n",
    "    print(\"四點\")\n",
    "elif dice == 5:\n",
    "    print(\"五點\")\n",
    "else:\n",
    "    print(\"六點\")"
   ]
  },
  {
   "cell_type": "code",
   "execution_count": 20,
   "metadata": {},
   "outputs": [
    {
     "name": "stdout",
     "output_type": "stream",
     "text": [
      "擲出骰子點數： 一點\n"
     ]
    }
   ],
   "source": [
    "#套用骰子，前面套用過可「免套用」\n",
    "import random\n",
    "\n",
    "#宣告dice為骰子，並且骰出1-6，前面宣告過可「免宣告」\n",
    "dice = random.randint(1,6)\n",
    "dice_points = {1:\"一點\", 2:\"二點\", 3:\"三點\", 4:\"四點\", 5:\"五點\", 6:\"六點\"}\n",
    "\n",
    "print(\"擲出骰子點數：\", dice_points[dice])"
   ]
  },
  {
   "cell_type": "code",
   "execution_count": null,
   "metadata": {},
   "outputs": [],
   "source": []
  }
 ],
 "metadata": {
  "kernelspec": {
   "display_name": "Python 3",
   "language": "python",
   "name": "python3"
  },
  "language_info": {
   "codemirror_mode": {
    "name": "ipython",
    "version": 3
   },
   "file_extension": ".py",
   "mimetype": "text/x-python",
   "name": "python",
   "nbconvert_exporter": "python",
   "pygments_lexer": "ipython3",
   "version": "3.8.5"
  }
 },
 "nbformat": 4,
 "nbformat_minor": 4
}
