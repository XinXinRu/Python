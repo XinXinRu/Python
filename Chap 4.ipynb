{
 "cells": [
  {
   "cell_type": "markdown",
   "metadata": {},
   "source": [
    "# Chap 4 的numpy套件(numeric python)\n",
    "## 為什麼需要numpy?\n",
    "* numpy由C撰寫，速度快python 10-1000倍以上\n",
    "* numpy儲存結果較正確，python數字儲存不正確\n",
    "* numpy節省記憶體儲存空間\n",
    "* numpy的向量(矩陣計算)速度快\n",
    "* numpy的取值方便"
   ]
  },
  {
   "cell_type": "code",
   "execution_count": 1,
   "metadata": {},
   "outputs": [
    {
     "name": "stdout",
     "output_type": "stream",
     "text": [
      "[1, 2, 3, 4, 5, 1, 2, 3, 4, 5, 1, 2, 3, 4, 5]\n"
     ]
    }
   ],
   "source": [
    "a_list=[1,2,3,4,5]\n",
    "\n",
    "#若沒有特別處理的話，python將會視為字串\n",
    "#並且重複印三次\n",
    "print(a_list*3)"
   ]
  },
  {
   "cell_type": "code",
   "execution_count": 2,
   "metadata": {},
   "outputs": [
    {
     "name": "stdout",
     "output_type": "stream",
     "text": [
      "[ 3  6  9 12 15]\n"
     ]
    }
   ],
   "source": [
    "#numpy套件的ndarray型態，提供element-wise的操作\n",
    "\n",
    "#套用「numpy」將之名稱改為「np」\n",
    "import numpy as np\n",
    "\n",
    "#a盛裝「numpy」的資料陣列結構\n",
    "a = np.array([1,2,3,4,5])\n",
    "\n",
    "#將a內的值乘三\n",
    "print(a*3)"
   ]
  },
  {
   "cell_type": "code",
   "execution_count": 4,
   "metadata": {},
   "outputs": [
    {
     "name": "stdout",
     "output_type": "stream",
     "text": [
      "<class 'numpy.ndarray'>\n",
      "(5,)\n",
      "int32\n",
      "1\n"
     ]
    }
   ],
   "source": [
    "#宣告，前面宣告過可「免宣告」\n",
    "a = np.array([1,2,3,4,5])\n",
    "\n",
    "#列印\n",
    "print(type(a))\n",
    "\n",
    "#印出ndarry的形狀，可以視為有多少筆資料\n",
    "print(a.shape)\n",
    "\n",
    "#印出資料的型態，是string還是int...\n",
    "print(a.dtype)\n",
    "\n",
    "#印出維度，是幾維陣列\n",
    "print(a.ndim)"
   ]
  },
  {
   "cell_type": "code",
   "execution_count": 10,
   "metadata": {},
   "outputs": [
    {
     "name": "stdout",
     "output_type": "stream",
     "text": [
      "[0. 0. 0. 0. 0. 0.]\n",
      "-----產生出2維陣列裡面有四筆資料-----\n",
      "[[0.000e+000 0.000e+000 0.000e+000 0.000e+000]\n",
      " [0.000e+000 6.364e-321 0.000e+000 0.000e+000]]\n",
      "-----產生出4維陣列裡面有二筆資料-----\n",
      "[[[0. 0.]\n",
      "  [0. 0.]\n",
      "  [0. 0.]\n",
      "  [0. 0.]]\n",
      "\n",
      " [[0. 0.]\n",
      "  [0. 0.]\n",
      "  [0. 0.]\n",
      "  [0. 0.]]\n",
      "\n",
      " [[0. 0.]\n",
      "  [0. 0.]\n",
      "  [0. 0.]\n",
      "  [0. 0.]]\n",
      "\n",
      " [[0. 0.]\n",
      "  [0. 0.]\n",
      "  [0. 0.]\n",
      "  [0. 0.]]]\n",
      "-----產生出1維陣列裡面有三筆資料-----\n",
      "[1.14877609e-311 0.00000000e+000 1.02360867e-306]\n",
      "-----從0開始到10-1，間隔1-----\n",
      "[0 1 2 3 4 5 6 7 8 9]\n",
      "-----從1開始到20-1，間隔2-----\n",
      "[ 1  3  5  7  9 11 13 15 17 19]\n"
     ]
    }
   ],
   "source": [
    "#套用「numpy」將之改名為「np」\n",
    "#與MySQL語法相似\n",
    "''' list 可以動態存異質資料\n",
    "    Numpy 具備平行處理的能力，可以將操作動作一次套用在大型陣列上'''\n",
    "import numpy as np\n",
    "\n",
    "z = np.zeros(6)\n",
    "print(z)\n",
    "\n",
    "#「np.empty(幾維陣列,幾行(沒寫預設為1),幾筆資料)」產生出2維陣列裡面有四筆資料\n",
    "print(\"-----產生出2維陣列裡面有四筆資料-----\")\n",
    "print(np.empty((2,4)))\n",
    "\n",
    "#「np.empty(幾維陣列,幾行(沒寫預設為1),幾筆資料)」產生出4維陣列裡面有二筆資料\n",
    "print(\"-----產生出4維陣列裡面有二筆資料-----\")\n",
    "print(np.empty((4,4,2)))\n",
    "\n",
    "#「np.empty(幾維陣列(沒寫預設為1),幾行(沒寫預設為1),幾筆資料)」產生出1維陣列裡面有三筆資料\n",
    "print(\"-----產生出1維陣列裡面有三筆資料-----\")\n",
    "print(np.empty(3))\n",
    "\n",
    "#「np.arange(10)」從0開始到10-1，間隔1\n",
    "\n",
    "print(\"-----從0開始到10-1，間隔1-----\")\n",
    "print(np.arange(10))\n",
    "\n",
    "#從1開始到20-1，間隔2\n",
    "\n",
    "print(\"-----從1開始到20-1，間隔2-----\")\n",
    "print(np.arange(1,20,2))"
   ]
  },
  {
   "cell_type": "code",
   "execution_count": 16,
   "metadata": {},
   "outputs": [
    {
     "name": "stdout",
     "output_type": "stream",
     "text": [
      "[0 1 2 3 4 5 6 7 8 9]\n",
      "0\n",
      "[0 1 2 3 4]\n"
     ]
    },
    {
     "ename": "IndexError",
     "evalue": "too many indices for array: array is 1-dimensional, but 3 were indexed",
     "output_type": "error",
     "traceback": [
      "\u001b[1;31m---------------------------------------------------------------------------\u001b[0m",
      "\u001b[1;31mIndexError\u001b[0m                                Traceback (most recent call last)",
      "\u001b[1;32m<ipython-input-16-19cf3c3b9bbc>\u001b[0m in \u001b[0;36m<module>\u001b[1;34m\u001b[0m\n\u001b[0;32m     12\u001b[0m \u001b[0mprint\u001b[0m\u001b[1;33m(\u001b[0m\u001b[0mmy_array\u001b[0m\u001b[1;33m[\u001b[0m\u001b[1;36m0\u001b[0m\u001b[1;33m:\u001b[0m\u001b[1;36m5\u001b[0m\u001b[1;33m]\u001b[0m\u001b[1;33m)\u001b[0m\u001b[1;33m\u001b[0m\u001b[1;33m\u001b[0m\u001b[0m\n\u001b[0;32m     13\u001b[0m \u001b[1;33m\u001b[0m\u001b[0m\n\u001b[1;32m---> 14\u001b[1;33m \u001b[0mprint\u001b[0m\u001b[1;33m(\u001b[0m\u001b[0mmy_array\u001b[0m\u001b[1;33m[\u001b[0m\u001b[1;36m0\u001b[0m\u001b[1;33m:\u001b[0m \u001b[1;36m4\u001b[0m\u001b[1;33m,\u001b[0m\u001b[1;36m10\u001b[0m\u001b[1;33m,\u001b[0m\u001b[1;36m1\u001b[0m\u001b[1;33m]\u001b[0m\u001b[1;33m)\u001b[0m\u001b[1;33m\u001b[0m\u001b[1;33m\u001b[0m\u001b[0m\n\u001b[0m",
      "\u001b[1;31mIndexError\u001b[0m: too many indices for array: array is 1-dimensional, but 3 were indexed"
     ]
    }
   ],
   "source": [
    "#上面已經import過，免再次import\n",
    "#宣告「my_array」盛裝「numpy.array(10)」\n",
    "my_array = np.arange(10)\n",
    "\n",
    "#從0開始印出10筆資料\n",
    "print(my_array)\n",
    "\n",
    "#「my_array」為幾維陣列(1維為0)，算法與陣列相同\n",
    "print(my_array[0])\n",
    "\n",
    "#「my_array[0:5]」印出1維陣列從0到5\n",
    "print(my_array[0:5])"
   ]
  },
  {
   "cell_type": "markdown",
   "metadata": {},
   "source": [
    "### 2維資料取值"
   ]
  },
  {
   "cell_type": "code",
   "execution_count": 22,
   "metadata": {},
   "outputs": [
    {
     "name": "stdout",
     "output_type": "stream",
     "text": [
      "[[0 1 2 3 4]\n",
      " [5 6 7 8 9]]\n",
      "[5 6 7 8 9]\n",
      "[1 6]\n"
     ]
    }
   ],
   "source": [
    "#宣告「my_2d_array」盛裝「np.array([np.arange(0,5), np.arange(5,10)])」\n",
    "#套用numpy的array(排列)格式裝「0-5」從0開始到5-1、「5-10」從5開始到10-1\n",
    "my_2d_array = np.array([np.arange(0,5), np.arange(5,10)],) #「array」陣列「arage」範圍\n",
    "\n",
    "#印出「my_2d_array」\n",
    "print(my_2d_array)\n",
    "\n",
    "#印出「my_2d_array[1,:]」[1第一陣列 ,的 :全部]，陣列算法與JAVA相同\n",
    "print(my_2d_array[1,:])\n",
    "\n",
    "#印出「my_2d_array[:,1]」[:全部 ,的 1第一陣列]，陣列算法與JAVA相同\n",
    "print(my_2d_array[:,1])\n"
   ]
  },
  {
   "cell_type": "code",
   "execution_count": 26,
   "metadata": {},
   "outputs": [
    {
     "name": "stdout",
     "output_type": "stream",
     "text": [
      "[0 1 2 3 4 5 6 7 8 9]\n",
      "(10,)\n",
      "[[0 1 2 3 4]\n",
      " [5 6 7 8 9]]\n",
      "[[  0   1   2   3   4   5   6   7   8   9]\n",
      " [ 10  11  12  13  14  15  16  17  18  19]\n",
      " [ 20  21  22  23  24  25  26  27  28  29]\n",
      " [ 30  31  32  33  34  35  36  37  38  39]\n",
      " [ 40  41  42  43  44  45  46  47  48  49]\n",
      " [ 50  51  52  53  54  55  56  57  58  59]\n",
      " [ 60  61  62  63  64  65  66  67  68  69]\n",
      " [ 70  71  72  73  74  75  76  77  78  79]\n",
      " [ 80  81  82  83  84  85  86  87  88  89]\n",
      " [ 90  91  92  93  94  95  96  97  98  99]\n",
      " [100 101 102 103 104 105 106 107 108 109]\n",
      " [110 111 112 113 114 115 116 117 118 119]\n",
      " [120 121 122 123 124 125 126 127 128 129]\n",
      " [130 131 132 133 134 135 136 137 138 139]\n",
      " [140 141 142 143 144 145 146 147 148 149]]\n"
     ]
    }
   ],
   "source": [
    "#宣告「my_array」盛裝「np.arange(0,10)」numpy格式範圍從0-10每次+1，共10筆資料\n",
    "my_array = np.arange(0,10)\n",
    "\n",
    "#印出「my_array」\n",
    "print(my_array)\n",
    "\n",
    "#印出「my_array」的形狀「.shape」，因宣告時共10筆(1維陣列)，故顯示10\n",
    "print(my_array.shape)\n",
    "\n",
    "#宣告「my_ad_array」盛裝被改變的「my_array」形狀\n",
    "#「my_array.reshape(2,5)」印出兩行，一行五筆資料\n",
    "my_2d_array = my_array.reshape(2,5)\n",
    "\n",
    "#印出「my_2d_array」\n",
    "print(my_2d_array)\n",
    "\n",
    "#印出「numpy」的0-150每次+1，並且改變它的形狀，每行010筆，共15行\n",
    "print((np.arange(0,150).reshape(15,10)))"
   ]
  },
  {
   "cell_type": "markdown",
   "metadata": {},
   "source": [
    "### numpy的空值nan"
   ]
  },
  {
   "cell_type": "code",
   "execution_count": 28,
   "metadata": {},
   "outputs": [
    {
     "name": "stdout",
     "output_type": "stream",
     "text": [
      "[56.  8. 19. 14. nan]\n"
     ]
    }
   ],
   "source": [
    "#宣告「b」盛裝「np.array([56, 8, 19, 14, np.nan])」\n",
    "#「numpy」的「array」可以自行輸入要的值\n",
    "#「numpy.nan」自私為「numpy的nan空值」\n",
    "b = np.array([56, 8, 19, 14, np.nan])\n",
    "\n",
    "#印出「b」\n",
    "print(b)"
   ]
  },
  {
   "cell_type": "code",
   "execution_count": null,
   "metadata": {},
   "outputs": [],
   "source": []
  }
 ],
 "metadata": {
  "kernelspec": {
   "display_name": "Python 3",
   "language": "python",
   "name": "python3"
  },
  "language_info": {
   "codemirror_mode": {
    "name": "ipython",
    "version": 3
   },
   "file_extension": ".py",
   "mimetype": "text/x-python",
   "name": "python",
   "nbconvert_exporter": "python",
   "pygments_lexer": "ipython3",
   "version": "3.8.5"
  }
 },
 "nbformat": 4,
 "nbformat_minor": 4
}
