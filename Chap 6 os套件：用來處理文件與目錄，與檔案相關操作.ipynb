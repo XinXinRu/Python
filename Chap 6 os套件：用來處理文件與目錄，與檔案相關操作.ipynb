{
 "cells": [
  {
   "cell_type": "markdown",
   "metadata": {},
   "source": [
    "# Chap 6 os套件：用來處理文件與目錄，與檔案相關操作\n",
    "os套件：用來處理文件與目錄，與檔案相關操作"
   ]
  },
  {
   "cell_type": "code",
   "execution_count": 1,
   "metadata": {},
   "outputs": [
    {
     "name": "stdout",
     "output_type": "stream",
     "text": [
      "C:\\Users\\Administrator\n"
     ]
    }
   ],
   "source": [
    "#套用「os」物件\n",
    "import os\n",
    "\n",
    "#印出從「os」物件內得到的資訊\n",
    "#用於顯示「目前所在的工作目錄」\n",
    "print(os.getcwd())\n",
    "\n",
    "#為於C磁碟-Users資料夾-Administrator資料夾"
   ]
  },
  {
   "cell_type": "code",
   "execution_count": 7,
   "metadata": {},
   "outputs": [
    {
     "data": {
      "text/plain": [
       "'一次只能顯示一個目錄\\n    若同時要求顯示兩個則\\n    前面要求顯示的目錄會被覆蓋'"
      ]
     },
     "execution_count": 7,
     "metadata": {},
     "output_type": "execute_result"
    }
   ],
   "source": [
    "#顯示「目前」目錄下的檔案\n",
    "os.listdir(\".\")\n",
    "\n",
    "'''一次只能顯示一個目錄\n",
    "   若同時要求顯示兩個則\n",
    "   前面要求顯示的目錄會被覆蓋'''\n",
    "#顯示D磁碟檔案\n",
    "#os.listdir(\"D:\\\\\")"
   ]
  },
  {
   "cell_type": "code",
   "execution_count": 6,
   "metadata": {},
   "outputs": [
    {
     "data": {
      "text/plain": [
       "['.conda',\n",
       " '.condarc',\n",
       " '.config',\n",
       " '.dotnet',\n",
       " '.eclipse',\n",
       " '.ipynb_checkpoints',\n",
       " '.ipython',\n",
       " '.p2',\n",
       " '.packettracer',\n",
       " '.templateengine',\n",
       " '.tooling',\n",
       " '.VirtualBox',\n",
       " '.vscode',\n",
       " '3D Objects',\n",
       " 'anaconda3',\n",
       " 'AppData',\n",
       " 'Application Data',\n",
       " 'Chap 6.ipynb',\n",
       " 'Cisco Packet Tracer 6.1.1sv',\n",
       " 'Cisco Packet Tracer 7.3.0',\n",
       " 'Cisco Packet Tracer 7.3.1',\n",
       " 'Contacts',\n",
       " 'Cookies',\n",
       " 'Desktop',\n",
       " 'Documents',\n",
       " 'Downloads',\n",
       " 'Favorites',\n",
       " 'Intel',\n",
       " 'IntelGraphicsProfiles',\n",
       " 'Links',\n",
       " 'Local Settings',\n",
       " 'MicrosoftEdgeBackups',\n",
       " 'Music',\n",
       " 'My Documents',\n",
       " 'NetHood',\n",
       " 'NTUSER.DAT',\n",
       " 'ntuser.dat.LOG1',\n",
       " 'ntuser.dat.LOG2',\n",
       " 'NTUSER.DAT{53b39e88-18c4-11ea-a811-000d3aa4692b}.TM.blf',\n",
       " 'NTUSER.DAT{53b39e88-18c4-11ea-a811-000d3aa4692b}.TMContainer00000000000000000001.regtrans-ms',\n",
       " 'NTUSER.DAT{53b39e88-18c4-11ea-a811-000d3aa4692b}.TMContainer00000000000000000002.regtrans-ms',\n",
       " 'ntuser.ini',\n",
       " 'Oracle',\n",
       " 'Pictures',\n",
       " 'PrintHood',\n",
       " 'Recent',\n",
       " 'Saved Games',\n",
       " 'Searches',\n",
       " 'SendTo',\n",
       " 'source',\n",
       " 'Templates',\n",
       " 'testmore',\n",
       " 'Videos',\n",
       " 'VirtualBox VMs',\n",
       " '「開始」功能表']"
      ]
     },
     "execution_count": 6,
     "metadata": {},
     "output_type": "execute_result"
    }
   ],
   "source": [
    "#因前面套用過「os」可免套用\n",
    "#新增目錄，命名為「testmore」\n",
    "os.makedirs(\"testmore\")\n",
    "\n",
    "#顯示C磁碟目錄\n",
    "os.listdir(\".\")"
   ]
  },
  {
   "cell_type": "code",
   "execution_count": 8,
   "metadata": {},
   "outputs": [
    {
     "data": {
      "text/plain": [
       "['.conda',\n",
       " '.condarc',\n",
       " '.config',\n",
       " '.dotnet',\n",
       " '.eclipse',\n",
       " '.ipynb_checkpoints',\n",
       " '.ipython',\n",
       " '.p2',\n",
       " '.packettracer',\n",
       " '.templateengine',\n",
       " '.tooling',\n",
       " '.VirtualBox',\n",
       " '.vscode',\n",
       " '3D Objects',\n",
       " 'anaconda3',\n",
       " 'AppData',\n",
       " 'Application Data',\n",
       " 'Chap 5.ipynb',\n",
       " 'Chap 6.ipynb',\n",
       " 'Cisco Packet Tracer 6.1.1sv',\n",
       " 'Cisco Packet Tracer 7.3.0',\n",
       " 'Cisco Packet Tracer 7.3.1',\n",
       " 'Contacts',\n",
       " 'Cookies',\n",
       " 'Desktop',\n",
       " 'Documents',\n",
       " 'Downloads',\n",
       " 'Favorites',\n",
       " 'Intel',\n",
       " 'IntelGraphicsProfiles',\n",
       " 'Links',\n",
       " 'Local Settings',\n",
       " 'MicrosoftEdgeBackups',\n",
       " 'Music',\n",
       " 'My Documents',\n",
       " 'NetHood',\n",
       " 'NTUSER.DAT',\n",
       " 'ntuser.dat.LOG1',\n",
       " 'ntuser.dat.LOG2',\n",
       " 'NTUSER.DAT{53b39e88-18c4-11ea-a811-000d3aa4692b}.TM.blf',\n",
       " 'NTUSER.DAT{53b39e88-18c4-11ea-a811-000d3aa4692b}.TMContainer00000000000000000001.regtrans-ms',\n",
       " 'NTUSER.DAT{53b39e88-18c4-11ea-a811-000d3aa4692b}.TMContainer00000000000000000002.regtrans-ms',\n",
       " 'ntuser.ini',\n",
       " 'Oracle',\n",
       " 'Pictures',\n",
       " 'PrintHood',\n",
       " 'Recent',\n",
       " 'Saved Games',\n",
       " 'Searches',\n",
       " 'SendTo',\n",
       " 'source',\n",
       " 'Templates',\n",
       " 'Videos',\n",
       " 'VirtualBox VMs',\n",
       " '「開始」功能表']"
      ]
     },
     "execution_count": 8,
     "metadata": {},
     "output_type": "execute_result"
    }
   ],
   "source": [
    "#移除目錄，「rm」在linux內是用於刪除與Python有相似之處\n",
    "os.rmdir(\"testmore\")\n",
    "\n",
    "#顯示當前目錄\n",
    "os.listdir(\".\")"
   ]
  },
  {
   "cell_type": "markdown",
   "metadata": {},
   "source": [
    "## 檔案處理\n",
    "os套件有自己的檔案處理命令，而比較常用的是python內建的open\n",
    "* w   = 可寫(預設建立檔案)若檔案存在則會清除舊檔案\n",
    "* w+  = 可寫可讀(預設建立檔案)段存在則會清除舊檔案\n",
    "* r   = 可讀\n",
    "* r+  = 可寫可讀，寫入資料指向開頭\n",
    "* a   = 可寫不能讀，寫入資料指向尾端\n",
    "* a+  = 可寫可讀，寫入資料指向尾端\n",
    "* b   = 轉為2進位文件\n",
    "* ab+ = 2進位文件的讀寫，寫入資料指向尾端"
   ]
  },
  {
   "cell_type": "markdown",
   "metadata": {},
   "source": [
    "## 新增檔案"
   ]
  },
  {
   "cell_type": "code",
   "execution_count": 10,
   "metadata": {},
   "outputs": [],
   "source": [
    "#使用python的「open」套件新增檔案\n",
    "#名為a的txt檔案，w為新增檔案(參考上表)\n",
    "a = open(\"a.txt\",\"w\")\n",
    "\n",
    "#在a參數內寫入內容，「\\n」為跳行\n",
    "a.write(\"This is a test1\")\n",
    "a.write(\"This is a test2\\n\")\n",
    "a.write(\"This is a test3\\n\")\n",
    "\n",
    "#關閉檔案\n",
    "a.close()"
   ]
  },
  {
   "cell_type": "markdown",
   "metadata": {},
   "source": [
    "## 檢查檔案是否存在"
   ]
  },
  {
   "cell_type": "code",
   "execution_count": 11,
   "metadata": {},
   "outputs": [
    {
     "data": {
      "text/plain": [
       "True"
      ]
     },
     "execution_count": 11,
     "metadata": {},
     "output_type": "execute_result"
    }
   ],
   "source": [
    "#在os物件內的「path」檢查(isfile)檔案「a.txt」是否存在\n",
    "os.path.isfile(\"a.txt\")"
   ]
  },
  {
   "cell_type": "markdown",
   "metadata": {},
   "source": [
    "## 讀取檔案"
   ]
  },
  {
   "cell_type": "code",
   "execution_count": 12,
   "metadata": {},
   "outputs": [
    {
     "name": "stdout",
     "output_type": "stream",
     "text": [
      "This is a test1This is a test2\n",
      "\n",
      "This is a test3\n",
      "\n",
      "\n"
     ]
    }
   ],
   "source": [
    "#讀取「a.txt」檔案，r為讀取\n",
    "a = open(\"a.txt\",\"r\")\n",
    "\n",
    "#印出檔案內容，「readline()」一次只能取一行\n",
    "print(a.readline())\n",
    "print(a.readline())\n",
    "print(a.readline()) #多餘的命令，檔案內當前只有兩行\n",
    "\n",
    "#關閉檔案\n",
    "a.close()"
   ]
  },
  {
   "cell_type": "code",
   "execution_count": 13,
   "metadata": {},
   "outputs": [
    {
     "name": "stdout",
     "output_type": "stream",
     "text": [
      "['This is a test1This is a test2\\n', 'This is a test3\\n']\n"
     ]
    }
   ],
   "source": [
    "#開啟「a.txt」檔案，r為讀取\n",
    "a = open(\"a.txt\",\"r\")\n",
    "\n",
    "#「readlines()」依次讀取多行\n",
    "#與a.read()命令相同\n",
    "print(a.readlines())\n",
    "\n",
    "#每次開啟檔案使用完畢時，切記要把檔案關閉!!!\n",
    "a.close()"
   ]
  },
  {
   "cell_type": "code",
   "execution_count": 14,
   "metadata": {},
   "outputs": [
    {
     "name": "stdout",
     "output_type": "stream",
     "text": [
      "['This is a test1This is a test2\\n', 'This is a test3\\n']\n"
     ]
    }
   ],
   "source": [
    "#判斷檔案是否存在\n",
    "if os.path.isfile(\"a.txt\"):\n",
    "    #開啟並用r來讀取(請參考「檔案處理表」)\n",
    "    a = open(\"a.txt\",\"r\")\n",
    "    print(a.readlines())\n",
    "    a.close()\n",
    "else:\n",
    "    print(\"檔案不存在\")"
   ]
  },
  {
   "cell_type": "markdown",
   "metadata": {},
   "source": [
    "## split函式"
   ]
  },
  {
   "cell_type": "code",
   "execution_count": 23,
   "metadata": {},
   "outputs": [
    {
     "name": "stdout",
     "output_type": "stream",
     "text": [
      "檔案不存在\n"
     ]
    }
   ],
   "source": [
    "#先判斷「a.txt」檔案是否存在\n",
    "if os.path.isfile(\"a.txt\"):\n",
    "    #開啟並用r來讀取(請參考「檔案處理表」)\n",
    "    a = open(\"a.txt\", \"r\")\n",
    "    \n",
    "    for line in a:\n",
    "        #以空白為切割欄位\n",
    "        fields=line.split(\" \")\n",
    "        #印「fields」的內容\n",
    "        print(fields)\n",
    "        a.close()\n",
    "else:\n",
    "    print(\"檔案不存在\")"
   ]
  },
  {
   "cell_type": "markdown",
   "metadata": {},
   "source": [
    "## 附加檔案"
   ]
  },
  {
   "cell_type": "code",
   "execution_count": 17,
   "metadata": {},
   "outputs": [],
   "source": [
    "#運用a來開啟檔案(請參考「檔案處理表」)\n",
    "a = open(\"a.txt\", \"a\")\n",
    "\n",
    "#寫「This is test4\\n」進「a.txt」檔\n",
    "a.write(\"This is test4\\n\")\n",
    "\n",
    "#關閉檔案\n",
    "a.close()"
   ]
  },
  {
   "cell_type": "code",
   "execution_count": 18,
   "metadata": {},
   "outputs": [
    {
     "name": "stdout",
     "output_type": "stream",
     "text": [
      "['This is a test1This is a test2\\n', 'This is a test3\\n', 'This is test4\\n']\n"
     ]
    }
   ],
   "source": [
    "#運用r來讀取檔案(請參考「檔案處理表」)\n",
    "a = open(\"a.txt\", \"r\")\n",
    "\n",
    "#印出多行\n",
    "print(a.readlines())\n",
    "\n",
    "#關閉檔案\n",
    "a.close()"
   ]
  },
  {
   "cell_type": "markdown",
   "metadata": {},
   "source": [
    "## 比較a與r+的不同\n",
    "* a 寫在檔案「結尾」\n",
    "* r+寫在檔案「開頭」\n",
    "* r 讀取"
   ]
  },
  {
   "cell_type": "code",
   "execution_count": 19,
   "metadata": {},
   "outputs": [],
   "source": [
    "#運用r+來開啟檔案\n",
    "a = open(\"a.txt\", \"r+\")\n",
    "\n",
    "#寫入「This is a test5\\n」在開頭\n",
    "a.write(\"This is a test5\\n\")\n",
    "\n",
    "#關閉檔案\n",
    "a.close()"
   ]
  },
  {
   "cell_type": "code",
   "execution_count": 21,
   "metadata": {},
   "outputs": [
    {
     "name": "stdout",
     "output_type": "stream",
     "text": [
      "['This is a test5\\n', 'is is a test2\\n', 'This is a test3\\n', 'This is test4\\n']\n"
     ]
    }
   ],
   "source": [
    "#運用r 來讀取資料\n",
    "a = open(\"a.txt\", \"r\")\n",
    "\n",
    "#印出資料，「readlines()」一次讀取多行並印出來\n",
    "print(a.readlines())\n",
    "\n",
    "#關閉檔案\n",
    "a.close()"
   ]
  },
  {
   "cell_type": "markdown",
   "metadata": {},
   "source": [
    "## 刪除檔案"
   ]
  },
  {
   "cell_type": "code",
   "execution_count": 22,
   "metadata": {},
   "outputs": [
    {
     "name": "stdout",
     "output_type": "stream",
     "text": [
      "檔案刪除成功\n",
      "False\n"
     ]
    }
   ],
   "source": [
    "if os.path.isfile(\"a.txt\"):\n",
    "    #呼叫os物件中的「remove」刪除「a.txt」\n",
    "    os.remove(\"a.txt\")\n",
    "    print(\"檔案刪除成功\")\n",
    "else:\n",
    "    print(\"找不到檔案\")\n",
    "print(os.path.isfile(\"a.txt\"))"
   ]
  },
  {
   "cell_type": "code",
   "execution_count": null,
   "metadata": {},
   "outputs": [],
   "source": []
  }
 ],
 "metadata": {
  "kernelspec": {
   "display_name": "Python 3",
   "language": "python",
   "name": "python3"
  },
  "language_info": {
   "codemirror_mode": {
    "name": "ipython",
    "version": 3
   },
   "file_extension": ".py",
   "mimetype": "text/x-python",
   "name": "python",
   "nbconvert_exporter": "python",
   "pygments_lexer": "ipython3",
   "version": "3.8.5"
  }
 },
 "nbformat": 4,
 "nbformat_minor": 4
}
